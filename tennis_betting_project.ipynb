{
  "nbformat": 4,
  "nbformat_minor": 0,
  "metadata": {
    "colab": {
      "provenance": []
    },
    "kernelspec": {
      "name": "python3",
      "display_name": "Python 3"
    },
    "language_info": {
      "name": "python"
    }
  },
  "cells": [
    {
      "cell_type": "markdown",
      "source": [
        "#Возможно ли иметь выигрыш в долгосрочной перспективе в такой сфере, как ставки на теннисные матчи? Для ответа на данный вопрос я проверю каким будет выигрыш/проигрыш игрока что в асболютных, что в относительных значениях при использовании некоторых ставочных стратегий"
      ],
      "metadata": {
        "id": "a2miI2gMMF9d"
      }
    },
    {
      "cell_type": "markdown",
      "source": [
        "#Загрузка необходимых для работы библиотек и данных (данные можно найти по ссылке:https://www.kaggle.com/datasets/edoardoba/atp-tennis-data)"
      ],
      "metadata": {
        "id": "52I7ZzUCNo-m"
      }
    },
    {
      "cell_type": "code",
      "execution_count": 1,
      "metadata": {
        "id": "BsVA9xiY0ub9"
      },
      "outputs": [],
      "source": [
        "import pandas as pd\n",
        "import numpy as np\n",
        "from sklearn.model_selection import train_test_split\n",
        "from sklearn import metrics\n",
        "from sklearn.model_selection import GridSearchCV\n",
        "import lightgbm as ltb\n",
        "import copy"
      ]
    },
    {
      "cell_type": "code",
      "source": [
        "data = pd.read_csv('tennis_data.csv', parse_dates=['Date'])"
      ],
      "metadata": {
        "colab": {
          "base_uri": "https://localhost:8080/"
        },
        "id": "HdPCIux81GYN",
        "outputId": "b2ab43ba-4dcc-404d-af43-ffff58035a98"
      },
      "execution_count": 2,
      "outputs": [
        {
          "output_type": "stream",
          "name": "stderr",
          "text": [
            "<ipython-input-2-bbe615a3abf0>:1: DtypeWarning: Columns (36) have mixed types. Specify dtype option on import or set low_memory=False.\n",
            "  data = pd.read_csv('tennis_data.csv', parse_dates=['Date'])\n"
          ]
        }
      ]
    },
    {
      "cell_type": "markdown",
      "source": [
        "#Предобработка данных"
      ],
      "metadata": {
        "id": "OIsUv5EzOLwM"
      }
    },
    {
      "cell_type": "markdown",
      "source": [
        "Для проверки стратегий я буду использовать матчи серий ATP 250, ATP 500, Masters 1000 и турниров Большого Шлема, которые закончились победой одного из игороков по итогам матча (то есть матчи, где были снятия по состоянию здоровья, из-за дисквалификации и тд не будут использоваться). Также не будут использоваться матчи, где нет фаворита по мнению букмекера."
      ],
      "metadata": {
        "id": "ht1YYQnpZw3p"
      }
    },
    {
      "cell_type": "code",
      "source": [
        "data = data[(data['Series']=='ATP250') | (data['Series']=='ATP500') | (data['Series']=='Masters 1000') | (data['Series']=='Grand Slam')]\n",
        "data= data[(data['Comment']=='Completed') & (data['Surface']!='Carpet')].reset_index(drop=True)\n",
        "data = data.dropna(subset=['B365W', 'B365L']).reset_index(drop=True)\n",
        "data = data.drop(data[(data['B365W'])==(data['B365L'])].index).reset_index(drop=True)"
      ],
      "metadata": {
        "id": "fiDAvHKC1KtY"
      },
      "execution_count": 3,
      "outputs": []
    },
    {
      "cell_type": "code",
      "source": [
        "data = data.drop_duplicates().reset_index(drop=True)"
      ],
      "metadata": {
        "id": "raD5vLSM1V7D"
      },
      "execution_count": 4,
      "outputs": []
    },
    {
      "cell_type": "markdown",
      "source": [
        "также удалим те даннные, в которых может быть ошибка, коэффициент на победу фаворита меньше 1, а также те матчи, в котрых победитель взял меньше партий, чем проигравший."
      ],
      "metadata": {
        "id": "9ptyX2GSkVmG"
      }
    },
    {
      "cell_type": "code",
      "source": [
        "data = data.drop(data[(data['Wsets'])<(data['Lsets'])].index).reset_index(drop=True)\n",
        "data = data.drop(data[(data['B365W']<=1) | (data['B365L']<=1)].index).reset_index(drop=True)"
      ],
      "metadata": {
        "id": "Zz5ZQTyG1NG-"
      },
      "execution_count": 5,
      "outputs": []
    },
    {
      "cell_type": "markdown",
      "source": [
        "#Стратегия флэта"
      ],
      "metadata": {
        "id": "uMaiXsWM2D4j"
      }
    },
    {
      "cell_type": "markdown",
      "source": [
        "Стратегия флэта заключается в том, что игрок ставить одинаковую сумму на каждую игру независимо от коэффициентов на матч. Стоит отметить, что будут использоваться наивные предположения: только фаворит игры побеждает или только аутсайдер побеждает. Фаворит - тот игрок, на которого букмекерский коэффициент ниже."
      ],
      "metadata": {
        "id": "ASOkaFEybHkq"
      }
    },
    {
      "cell_type": "markdown",
      "source": [
        "В качестве метрик качества предсказаний будут чистый выигрыш/проигыш игрока, а также ROI = выигрыш/сумма ставок"
      ],
      "metadata": {
        "id": "g3DxAwULxE1T"
      }
    },
    {
      "cell_type": "markdown",
      "source": [
        "флэт ставки на фаворита. Стратегия заключается в том, что игрок ставит на того игрока, на кого коэффициент перед матчем меньше (то есть вероятность его победы оценивается выше, чем вероятность поражения)."
      ],
      "metadata": {
        "id": "eq-eF4OgBIQ7"
      }
    },
    {
      "cell_type": "code",
      "source": [
        "def flat_fav(data):\n",
        "  data1 = copy.deepcopy(data)\n",
        "  data1['fav_coef'] = data1[['B365W', 'B365L']].min(axis=1)\n",
        "  data1['fav_win'] = (data1['fav_coef']==data1['B365W'])*1\n",
        "  data1['final'] = data1['fav_coef']*data1['fav_win']-1\n",
        "  profit=round(data1['final'].sum(),2)\n",
        "  ROI = round(profit/len(data1)*100,2)\n",
        "  return f'На дистанции {len(data1)} ставок выигрыш составил {profit} единиц, ROI составил {ROI}%'"
      ],
      "metadata": {
        "id": "zgFCGcc7A0UD"
      },
      "execution_count": 6,
      "outputs": []
    },
    {
      "cell_type": "code",
      "source": [
        "flat_fav(data)"
      ],
      "metadata": {
        "colab": {
          "base_uri": "https://localhost:8080/",
          "height": 35
        },
        "id": "fnf4bBl9A_r2",
        "outputId": "64b84737-2c22-4191-e464-2fd8c23a0bdb"
      },
      "execution_count": 7,
      "outputs": [
        {
          "output_type": "execute_result",
          "data": {
            "text/plain": [
              "'На дистанции 31587 ставок выигрыш составил -1608.86 единиц, ROI составил -5.09%'"
            ],
            "application/vnd.google.colaboratory.intrinsic+json": {
              "type": "string"
            }
          },
          "metadata": {},
          "execution_count": 7
        }
      ]
    },
    {
      "cell_type": "markdown",
      "source": [
        "флэт ставки на аутсайдера. Стратегия заключается в том, что игрок ставит на того игрока, на кого коэффициент перед матчем выше (то есть вероятность его победы оценивается ниже, чем вероятность поражения)."
      ],
      "metadata": {
        "id": "jHHfvRm0BM4y"
      }
    },
    {
      "cell_type": "code",
      "source": [
        "def flat_under(data):\n",
        "  data1 = copy.deepcopy(data)\n",
        "  data1['under_coef'] = data1[['B365W', 'B365L']].max(axis=1)\n",
        "  data1['under_win'] = (data1['under_coef']==data1['B365W'])*1\n",
        "  data1['final'] = data1['under_coef']*data1['under_win']-1\n",
        "  profit=round(data1['final'].sum(),2)\n",
        "  ROI = round(profit/len(data1)*100,2)\n",
        "  return f'На дистанции {len(data1)} ставок выигрыш составил {profit} единиц, ROI составил {ROI}%'"
      ],
      "metadata": {
        "id": "9sbXpK0uBQdk"
      },
      "execution_count": 8,
      "outputs": []
    },
    {
      "cell_type": "code",
      "source": [
        "flat_under(data)"
      ],
      "metadata": {
        "colab": {
          "base_uri": "https://localhost:8080/",
          "height": 35
        },
        "id": "ePHD2lTXBdw-",
        "outputId": "462c6678-9553-4fd6-e0e9-cd6340a6b46b"
      },
      "execution_count": 9,
      "outputs": [
        {
          "output_type": "execute_result",
          "data": {
            "text/plain": [
              "'На дистанции 31587 ставок выигрыш составил -4006.47 единиц, ROI составил -12.68%'"
            ],
            "application/vnd.google.colaboratory.intrinsic+json": {
              "type": "string"
            }
          },
          "metadata": {},
          "execution_count": 9
        }
      ]
    },
    {
      "cell_type": "markdown",
      "source": [
        "#Стратегия в зависимости от коэффициента на фаворита (чем ниже коэффициент, тем выше сумма ставки)"
      ],
      "metadata": {
        "id": "brUu7sI8BkKo"
      }
    },
    {
      "cell_type": "markdown",
      "source": [
        "стратегия в ставках на фаворита"
      ],
      "metadata": {
        "id": "UFkFIyTZcVvO"
      }
    },
    {
      "cell_type": "code",
      "source": [
        "def non_flat_fav(data):\n",
        "  data1 = copy.deepcopy(data)\n",
        "  data1['fav_coef'] = data1[['B365W', 'B365L']].min(axis=1)\n",
        "  data1['fav_win'] = (data1['fav_coef']==data1['B365W'])*1\n",
        "  data1['unit'] = 1+1/data1['fav_coef']\n",
        "  data1['final'] = (data1['fav_coef']*data1['fav_win'])*data1['unit']-data1['unit']\n",
        "  profit=round(data1['final'].sum(),2)\n",
        "  betted = round(data1['unit'].sum())\n",
        "  ROI = round(profit/betted*100,2)\n",
        "  return f'На дистанции {len(data1)} ставок выигрыш  составил {profit} единиц, ROI составил {ROI}%'"
      ],
      "metadata": {
        "id": "lYIFvmGkBfr7"
      },
      "execution_count": 10,
      "outputs": []
    },
    {
      "cell_type": "code",
      "source": [
        "non_flat_fav(data)"
      ],
      "metadata": {
        "colab": {
          "base_uri": "https://localhost:8080/",
          "height": 35
        },
        "id": "AfTGJCE_B8ca",
        "outputId": "73da6097-414d-4aad-82ad-bd15ee554d1e"
      },
      "execution_count": 11,
      "outputs": [
        {
          "output_type": "execute_result",
          "data": {
            "text/plain": [
              "'На дистанции 31587 ставок выигрыш  составил -2724.29 единиц, ROI составил -4.95%'"
            ],
            "application/vnd.google.colaboratory.intrinsic+json": {
              "type": "string"
            }
          },
          "metadata": {},
          "execution_count": 11
        }
      ]
    },
    {
      "cell_type": "markdown",
      "source": [
        "стратегия в ставках на аутсайдера"
      ],
      "metadata": {
        "id": "LdyAbdRxclI4"
      }
    },
    {
      "cell_type": "code",
      "source": [
        "def non_flat_under(data):\n",
        "  data1 = copy.deepcopy(data)\n",
        "  data1['fav_coef'] = data1[['B365W', 'B365L']].min(axis=1)\n",
        "  data1['under_coef'] = data1[['B365W', 'B365L']].max(axis=1)\n",
        "  data1['under_win'] = (data1['under_coef']==data1['B365W'])*1\n",
        "  data1['unit'] = 2-1/data1['fav_coef']\n",
        "  data1['final'] = (data1['under_coef']*data1['under_win'])*data1['unit']-data1['unit']\n",
        "  profit=round(data1['final'].sum(),2)\n",
        "  betted = round(data1['unit'].sum())\n",
        "  ROI = round(profit/betted*100,2)\n",
        "  return f'На дистанции {len(data1)} ставок выигрыш  составил {profit} единиц, ROI составил {ROI}%'"
      ],
      "metadata": {
        "id": "C7Bac_UNB-tG"
      },
      "execution_count": 12,
      "outputs": []
    },
    {
      "cell_type": "code",
      "source": [
        "non_flat_under(data)"
      ],
      "metadata": {
        "colab": {
          "base_uri": "https://localhost:8080/",
          "height": 35
        },
        "id": "8DJD_yCrDG_t",
        "outputId": "8376e446-0b72-480d-ba5d-4c6f8686de7f"
      },
      "execution_count": 13,
      "outputs": [
        {
          "output_type": "execute_result",
          "data": {
            "text/plain": [
              "'На дистанции 31587 ставок выигрыш  составил -4718.05 единиц, ROI составил -11.88%'"
            ],
            "application/vnd.google.colaboratory.intrinsic+json": {
              "type": "string"
            }
          },
          "metadata": {},
          "execution_count": 13
        }
      ]
    },
    {
      "cell_type": "markdown",
      "source": [
        "#Стратегия не ставить на некоторые матчи в зависимости от коэффицента"
      ],
      "metadata": {
        "id": "mZ4ZSKcmDfyF"
      }
    },
    {
      "cell_type": "markdown",
      "source": [
        "Стратегия заключается в том, что ставим в том случае, если коэффициент ниже определенного значения"
      ],
      "metadata": {
        "id": "yLzstLsucqRU"
      }
    },
    {
      "cell_type": "markdown",
      "source": [
        "ставки на фаворита по этой стратегии"
      ],
      "metadata": {
        "id": "tvqXy7FIc9HV"
      }
    },
    {
      "cell_type": "code",
      "source": [
        "def non_flat_fav3(data,coef):\n",
        "  data1 = copy.deepcopy(data)\n",
        "  data1['fav_coef'] = data1[['B365W', 'B365L']].min(axis=1)\n",
        "  data1['fav_win'] = (data1['fav_coef']==data1['B365W'])*1\n",
        "  data1['unit'] = (data1['fav_coef']<coef)*1\n",
        "  data1['final'] = (data1['fav_coef']*data1['fav_win'])*data1['unit']-data1['unit']\n",
        "  profit=round(data1['final'].sum(),2)\n",
        "  betted = round(data1['unit'].sum())\n",
        "  ROI = round(profit/betted*100,2)\n",
        "  return f'На дистанции {betted} ставок выигрыш  составил {profit} единиц, ROI составил {ROI}%'"
      ],
      "metadata": {
        "id": "MVGB1P3bDfQ-"
      },
      "execution_count": 14,
      "outputs": []
    },
    {
      "cell_type": "code",
      "source": [
        "coef_var = np.arange(1.0, 2.0,0.1)\n",
        "coef_var1 = np.arange(2, 3.5,0.2)"
      ],
      "metadata": {
        "id": "otIDSGXrDKBo"
      },
      "execution_count": 15,
      "outputs": []
    },
    {
      "cell_type": "code",
      "source": [
        "for i in range(len(coef_var)):\n",
        "  print(f'при ставках на коэф меньше {round(coef_var[i],2)} ', non_flat_fav3(data, coef_var[i]))"
      ],
      "metadata": {
        "colab": {
          "base_uri": "https://localhost:8080/"
        },
        "id": "7dIbhpyTFBAU",
        "outputId": "62c733ec-b5cd-4ada-ea78-f2b9954c16a3"
      },
      "execution_count": 16,
      "outputs": [
        {
          "output_type": "stream",
          "name": "stdout",
          "text": [
            "при ставках на коэф меньше 1.0  На дистанции 0 ставок выигрыш  составил 0.0 единиц, ROI составил nan%\n",
            "при ставках на коэф меньше 1.1  На дистанции 3168 ставок выигрыш  составил -65.2 единиц, ROI составил -2.06%\n",
            "при ставках на коэф меньше 1.2  На дистанции 8361 ставок выигрыш  составил -249.23 единиц, ROI составил -2.98%\n",
            "при ставках на коэф меньше 1.3  На дистанции 12845 ставок выигрыш  составил -327.01 единиц, ROI составил -2.55%\n",
            "при ставках на коэф меньше 1.4  На дистанции 18196 ставок выигрыш  составил -571.37 единиц, ROI составил -3.14%\n",
            "при ставках на коэф меньше 1.5  На дистанции 21725 ставок выигрыш  составил -821.51 единиц, ROI составил -3.78%\n",
            "при ставках на коэф меньше 1.6  На дистанции 25354 ставок выигрыш  составил -1101.0 единиц, ROI составил -4.34%\n",
            "при ставках на коэф меньше 1.7  На дистанции 28553 ставок выигрыш  составил -1363.07 единиц, ROI составил -4.77%\n",
            "при ставках на коэф меньше 1.8  На дистанции 31580 ставок выигрыш  составил -1612.86 единиц, ROI составил -5.11%\n",
            "при ставках на коэф меньше 1.9  На дистанции 31586 ставок выигрыш  составил -1607.86 единиц, ROI составил -5.09%\n"
          ]
        },
        {
          "output_type": "stream",
          "name": "stderr",
          "text": [
            "<ipython-input-14-d2ddda862dcf>:9: RuntimeWarning: invalid value encountered in double_scalars\n",
            "  ROI = round(profit/betted*100,2)\n"
          ]
        }
      ]
    },
    {
      "cell_type": "markdown",
      "source": [
        "ставки на аутсайдера при данной стратегии"
      ],
      "metadata": {
        "id": "6Cry9mN1d99h"
      }
    },
    {
      "cell_type": "code",
      "source": [
        "def non_flat_under3(data, coef):\n",
        "  data1 = copy.deepcopy(data)\n",
        "  data1['under_coef'] = data1[['B365W', 'B365L']].max(axis=1)\n",
        "  data1['under_win'] = (data1['under_coef']==data1['B365W'])*1\n",
        "  data1['unit'] = (data1['under_coef']<coef)*1\n",
        "  data1['final'] = (data1['under_coef']*data1['under_win'])*data1['unit']-data1['unit']\n",
        "  profit=round(data1['final'].sum(),2)\n",
        "  betted = round(data1['unit'].sum())\n",
        "  ROI = round(profit/betted*100,2)\n",
        "  return f'На дистанции {betted} ставок выигрыш составил {profit} единиц, ROI составил {ROI}%'"
      ],
      "metadata": {
        "id": "mLrKxLuwFNgD"
      },
      "execution_count": 17,
      "outputs": []
    },
    {
      "cell_type": "code",
      "source": [
        "for i in range(len(coef_var1)):\n",
        "  print(f'при ставках на коэф меньше {round(coef_var1[i],2)}', non_flat_under3(data, coef_var1[i]))"
      ],
      "metadata": {
        "colab": {
          "base_uri": "https://localhost:8080/"
        },
        "id": "KiiwXCukFSyX",
        "outputId": "403ad185-b1eb-4bac-e4b7-6e768e6b5acb"
      },
      "execution_count": 18,
      "outputs": [
        {
          "output_type": "stream",
          "name": "stdout",
          "text": [
            "при ставках на коэф меньше 2.0 На дистанции 688 ставок выигрыш составил -66.3 единиц, ROI составил -9.64%\n",
            "при ставках на коэф меньше 2.2 На дистанции 4423 ставок выигрыш составил -256.35 единиц, ROI составил -5.8%\n",
            "при ставках на коэф меньше 2.4 На дистанции 9469 ставок выигрыш составил -512.62 единиц, ROI составил -5.41%\n",
            "при ставках на коэф меньше 2.6 На дистанции 11075 ставок выигрыш составил -596.12 единиц, ROI составил -5.38%\n",
            "при ставках на коэф меньше 2.8 На дистанции 14988 ставок выигрыш составил -857.57 единиц, ROI составил -5.72%\n",
            "при ставках на коэф меньше 3.0 На дистанции 17147 ставок выигрыш составил -1127.06 единиц, ROI составил -6.57%\n",
            "при ставках на коэф меньше 3.2 На дистанции 17362 ставок выигрыш составил -1146.86 единиц, ROI составил -6.61%\n",
            "при ставках на коэф меньше 3.4 На дистанции 19343 ставок выигрыш составил -1327.77 единиц, ROI составил -6.86%\n"
          ]
        }
      ]
    },
    {
      "cell_type": "markdown",
      "source": [
        "#Ни одна из стратегий не принесла дохода в случае подхода ставок только на фаворита или андердога. Для того, чтобы все-таки придумать выигрышную стратегию, необходимо построить классификатор, который предсказавывает победителя матча и уже с помощью итогов этого классификатора, можно пробовать составлять новые стратегии."
      ],
      "metadata": {
        "id": "52BusPhcFxK-"
      }
    },
    {
      "cell_type": "markdown",
      "source": [
        "теперь для классификатора добавим такие показатели как результат выступлений в прошлом перед игрой годом и результат выступлений на покрытии (в зависимости от того, на каком покрытии проходит игра) в прошлом перед игрой годом "
      ],
      "metadata": {
        "id": "XxZuQFdmeIvt"
      }
    },
    {
      "cell_type": "code",
      "source": [
        "data_help = copy.deepcopy(data)"
      ],
      "metadata": {
        "id": "yD-PkfToIdVH"
      },
      "execution_count": 19,
      "outputs": []
    },
    {
      "cell_type": "code",
      "source": [
        "data_help['Year'] = pd.DatetimeIndex(data_help['Date']).year"
      ],
      "metadata": {
        "id": "4OCpP4-8IuSv"
      },
      "execution_count": 20,
      "outputs": []
    },
    {
      "cell_type": "code",
      "source": [
        "a = pd.DataFrame(data_help.groupby(['Winner', 'Year']).count())\n",
        "b = pd.DataFrame(data_help.groupby(['Loser', 'Year']).count())\n",
        "c = pd.DataFrame(data_help.groupby(['Winner', 'Year', 'Surface']).count())\n",
        "d = pd.DataFrame(data_help.groupby(['Loser', 'Year', 'Surface']).count())"
      ],
      "metadata": {
        "id": "fL1ebUWiI19J"
      },
      "execution_count": 21,
      "outputs": []
    },
    {
      "cell_type": "code",
      "source": [
        "Wins= a.reset_index().iloc[:,:3]\n",
        "Losses = b.reset_index().iloc[:,:3]\n",
        "Wins_surf = c.reset_index().iloc[:,:4]\n",
        "Losses_surf = d.reset_index().iloc[:,:4]"
      ],
      "metadata": {
        "id": "cAuSJ1UrJDc7"
      },
      "execution_count": 22,
      "outputs": []
    },
    {
      "cell_type": "code",
      "source": [
        "Wins = Wins.rename(columns={'Winner': 'Player', 'ATP': 'Wins'})\n",
        "Losses = Losses.rename(columns={'Loser': 'Player', 'ATP': 'Losses'})\n",
        "Wins_surf = Wins_surf.rename(columns={'Winner': 'Player', 'ATP': 'Wins_surf'})\n",
        "Losses_surf = Losses_surf.rename(columns={'Loser': 'Player', 'ATP': 'Losses_surf'})"
      ],
      "metadata": {
        "id": "Rs140unZJGYN"
      },
      "execution_count": 23,
      "outputs": []
    },
    {
      "cell_type": "code",
      "source": [
        "stats_by_year = Wins.merge(Losses, how='right', on = ['Player', 'Year']).fillna(0)\n",
        "stats_by_year_surf = Wins_surf.merge(Losses_surf, how='right', on = ['Player', 'Year', 'Surface']).fillna(0)"
      ],
      "metadata": {
        "id": "C_I_Qb46JG7w"
      },
      "execution_count": 24,
      "outputs": []
    },
    {
      "cell_type": "code",
      "source": [
        "data['prev_year']= pd.DatetimeIndex(data['Date']).year-1\n",
        "data = data[data['prev_year']>2007].reset_index(drop=True)"
      ],
      "metadata": {
        "id": "5Hgu4UgxJQdt"
      },
      "execution_count": 25,
      "outputs": []
    },
    {
      "cell_type": "code",
      "source": [
        "a = pd.merge(data, stats_by_year, left_on=  ['Winner', 'prev_year'],\n",
        "                   right_on= ['Player', 'Year'], \n",
        "                   how = 'left')"
      ],
      "metadata": {
        "id": "J-vASyWZJfpJ"
      },
      "execution_count": 26,
      "outputs": []
    },
    {
      "cell_type": "code",
      "source": [
        "data = pd.merge(a, stats_by_year, left_on=  ['Loser', 'Year'],\n",
        "                   right_on= ['Player', 'Year'], \n",
        "                   how = 'left')"
      ],
      "metadata": {
        "id": "OVKQuNjOJp75"
      },
      "execution_count": 27,
      "outputs": []
    },
    {
      "cell_type": "code",
      "source": [
        "data = pd.merge(data, stats_by_year_surf, left_on=  ['Winner', 'Year', 'Surface'],\n",
        "                   right_on= ['Player', 'Year', 'Surface'], \n",
        "                   how = 'left')"
      ],
      "metadata": {
        "id": "l95tJSOeJst0"
      },
      "execution_count": 28,
      "outputs": []
    },
    {
      "cell_type": "code",
      "source": [
        "data = pd.merge(data, stats_by_year_surf, left_on=  ['Loser', 'Year', 'Surface'],\n",
        "                   right_on= ['Player', 'Year', 'Surface'], \n",
        "                   how = 'left')"
      ],
      "metadata": {
        "colab": {
          "base_uri": "https://localhost:8080/"
        },
        "id": "d9Y5sypDJvhG",
        "outputId": "e0d9fc38-a60e-4411-96e7-8dcfc8c68319"
      },
      "execution_count": 29,
      "outputs": [
        {
          "output_type": "stream",
          "name": "stderr",
          "text": [
            "<ipython-input-29-eedf23de1ad1>:1: FutureWarning: Passing 'suffixes' which cause duplicate columns {'Player_x'} in the result is deprecated and will raise a MergeError in a future version.\n",
            "  data = pd.merge(data, stats_by_year_surf, left_on=  ['Loser', 'Year', 'Surface'],\n"
          ]
        }
      ]
    },
    {
      "cell_type": "markdown",
      "source": [
        "добавляем коэффициент на фаворита в матче, а также вспомогательную переменую победа фаворита в матче"
      ],
      "metadata": {
        "id": "tYTYzezGesCh"
      }
    },
    {
      "cell_type": "code",
      "source": [
        "data['fav_coef'] = data[['B365W', 'B365L']].min(axis=1)\n",
        "data['under_coef'] = data[['B365W', 'B365L']].max(axis=1)\n",
        "data['fav_win'] = (data['fav_coef']==data['B365W'])*1\n",
        "data['under_win'] = (data['under_coef']==data['B365W'])*1"
      ],
      "metadata": {
        "id": "Nu_4W3LiH6Um"
      },
      "execution_count": 30,
      "outputs": []
    },
    {
      "cell_type": "markdown",
      "source": [
        "теперь сравнение игроков по результатам прошлого сезона"
      ],
      "metadata": {
        "id": "m1v9MXHXfN4v"
      }
    },
    {
      "cell_type": "code",
      "source": [
        "data['p1_win_rate'] = data['Wins_x'] - data['Losses_x']\n",
        "data['p2_win_rate'] = data['Wins_y'] - data['Losses_y']\n",
        "data['p1_surf_win_rate'] = data['Wins_surf_x'] - data['Losses_surf_x']\n",
        "data['p2_surf_win_rate'] = data['Wins_surf_y'] - data['Losses_surf_y']"
      ],
      "metadata": {
        "id": "24Ha5I6fJ1DB"
      },
      "execution_count": 31,
      "outputs": []
    },
    {
      "cell_type": "markdown",
      "source": [
        "Теперь составляем датасет, в котором параметры считаются уже не относительно победителя и програвшего игрока, а относительно того, кто был фаворитом перед игрой по мнению букмекера."
      ],
      "metadata": {
        "id": "ESDIEZYZfZU8"
      }
    },
    {
      "cell_type": "code",
      "source": [
        "def fav_attributes(data, column, column1):\n",
        "  name= 'fav_'+column[1:]\n",
        "  data[name] = np.where(data['fav_win']>data['under_win'],\n",
        "                        data[column].combine_first(data[column1]),\n",
        "                        data[column1].combine_first(data[column]))\n",
        "  return data"
      ],
      "metadata": {
        "id": "8QIPWIuaJ33U"
      },
      "execution_count": 32,
      "outputs": []
    },
    {
      "cell_type": "code",
      "source": [
        "def under_attributes(data, column, column1):\n",
        "  name= 'under_'+column[1:]\n",
        "  data[name] = np.where(data['fav_win']<data['under_win'],\n",
        "                        data[column].combine_first(data[column1]),\n",
        "                        data[column1].combine_first(data[column]))\n",
        "  return data"
      ],
      "metadata": {
        "id": "B1J2UNw2J6vT"
      },
      "execution_count": 33,
      "outputs": []
    },
    {
      "cell_type": "code",
      "source": [
        "fav_attributes(data,'WRank','LRank')\n",
        "fav_attributes(data,'WPts','LPts')\n",
        "fav_attributes(data,'pl1_year_pro','pl2_year_pro')\n",
        "fav_attributes(data,'pl1_hand','pl2_hand')\n",
        "fav_attributes(data,'pl1_height','pl2_height')\n",
        "fav_attributes(data,'p1_win_rate','p2_win_rate')\n",
        "fav_attributes(data,'p1_surf_win_rate','p2_win_rate')\n",
        "under_attributes(data,'WRank','LRank')\n",
        "under_attributes(data,'WPts','LPts')\n",
        "under_attributes(data,'pl1_year_pro','pl2_year_pro')\n",
        "under_attributes(data,'pl1_hand','pl2_hand')\n",
        "under_attributes(data,'pl1_height','pl2_height')\n",
        "under_attributes(data,'p1_win_rate','p2_win_rate')\n",
        "under_attributes(data,'p1_surf_win_rate','p2_win_rate')"
      ],
      "metadata": {
        "colab": {
          "base_uri": "https://localhost:8080/",
          "height": 852
        },
        "id": "4Yz5S4MFKBb_",
        "outputId": "309251b8-3666-46e7-c73a-e4dce5185bd1"
      },
      "execution_count": 34,
      "outputs": [
        {
          "output_type": "execute_result",
          "data": {
            "text/plain": [
              "       ATP  Location                Tournament       Date        Series  \\\n",
              "0        1  Adelaide  Adelaide International 1 2022-01-03        ATP250   \n",
              "1        1  Adelaide  Adelaide International 1 2022-01-03        ATP250   \n",
              "2        1  Adelaide  Adelaide International 1 2022-01-03        ATP250   \n",
              "3        1  Adelaide  Adelaide International 1 2022-01-03        ATP250   \n",
              "4        1  Adelaide  Adelaide International 1 2022-01-04        ATP250   \n",
              "...    ...       ...                       ...        ...           ...   \n",
              "31105   64     Paris       BNP Paribas Masters 2009-11-13  Masters 1000   \n",
              "31106   64     Paris       BNP Paribas Masters 2009-11-13  Masters 1000   \n",
              "31107   64     Paris       BNP Paribas Masters 2009-11-14  Masters 1000   \n",
              "31108   64     Paris       BNP Paribas Masters 2009-11-14  Masters 1000   \n",
              "31109   64     Paris       BNP Paribas Masters 2009-11-15  Masters 1000   \n",
              "\n",
              "         Court Surface          Round  Best of       Winner  ...  \\\n",
              "0      Outdoor    Hard      1st Round        3    Kwon S.W.  ...   \n",
              "1      Outdoor    Hard      1st Round        3  Monteiro T.  ...   \n",
              "2      Outdoor    Hard      1st Round        3     Djere L.  ...   \n",
              "3      Outdoor    Hard      1st Round        3   Johnson S.  ...   \n",
              "4      Outdoor    Hard      1st Round        3    Moutet C.  ...   \n",
              "...        ...     ...            ...      ...          ...  ...   \n",
              "31105   Indoor    Hard  Quarterfinals        3     Nadal R.  ...   \n",
              "31106   Indoor    Hard  Quarterfinals        3   Monfils G.  ...   \n",
              "31107   Indoor    Hard     Semifinals        3  Djokovic N.  ...   \n",
              "31108   Indoor    Hard     Semifinals        3   Monfils G.  ...   \n",
              "31109   Indoor    Hard      The Final        3  Djokovic N.  ...   \n",
              "\n",
              "      fav_l1_height  fav_1_win_rate  fav_1_surf_win_rate  under_Rank  \\\n",
              "0             180.0             3.0                  2.0        81.0   \n",
              "1             188.0            -2.0                 -2.0        89.0   \n",
              "2             185.0            -2.0                 -4.0        79.0   \n",
              "3             188.0            -2.0                 -2.0        85.0   \n",
              "4             188.0            -5.0                 -5.0        92.0   \n",
              "...             ...             ...                  ...         ...   \n",
              "31105         188.0             6.0                  6.0         2.0   \n",
              "31106         198.0             4.0                  4.0        16.0   \n",
              "31107         188.0            15.0                 11.0         2.0   \n",
              "31108         193.0             6.0                  2.0        14.0   \n",
              "31109         188.0            15.0                 11.0        16.0   \n",
              "\n",
              "       under_Pts  under_l1_year_pro  under_l1_hand  under_l1_height  \\\n",
              "0          823.0             2014.0    Left-Handed            170.0   \n",
              "1          805.0             2011.0    Left-Handed            183.0   \n",
              "2          837.0             2011.0   Right-Handed            180.0   \n",
              "3          812.0             2012.0   Right-Handed            188.0   \n",
              "4          797.0             2016.0    Left-Handed            175.0   \n",
              "...          ...                ...            ...              ...   \n",
              "31105     8845.0             2001.0    Left-Handed            185.0   \n",
              "31106     2055.0             2004.0   Right-Handed            193.0   \n",
              "31107     8845.0             2001.0    Left-Handed            185.0   \n",
              "31108     2310.0             1996.0   Right-Handed            185.0   \n",
              "31109     2055.0             2004.0   Right-Handed            193.0   \n",
              "\n",
              "       under_1_win_rate  under_1_surf_win_rate  \n",
              "0                  -7.0                   -7.0  \n",
              "1                  -2.0                    2.0  \n",
              "2                  -6.0                   -6.0  \n",
              "3                  -1.0                    0.0  \n",
              "4                  -1.0                    1.0  \n",
              "...                 ...                    ...  \n",
              "31105              21.0                    7.0  \n",
              "31106               6.0                    2.0  \n",
              "31107              21.0                   21.0  \n",
              "31108               3.0                    3.0  \n",
              "31109               6.0                    6.0  \n",
              "\n",
              "[31110 rows x 90 columns]"
            ],
            "text/html": [
              "\n",
              "  <div id=\"df-810afea0-2474-4bb2-8cb6-f23c0e615fa9\">\n",
              "    <div class=\"colab-df-container\">\n",
              "      <div>\n",
              "<style scoped>\n",
              "    .dataframe tbody tr th:only-of-type {\n",
              "        vertical-align: middle;\n",
              "    }\n",
              "\n",
              "    .dataframe tbody tr th {\n",
              "        vertical-align: top;\n",
              "    }\n",
              "\n",
              "    .dataframe thead th {\n",
              "        text-align: right;\n",
              "    }\n",
              "</style>\n",
              "<table border=\"1\" class=\"dataframe\">\n",
              "  <thead>\n",
              "    <tr style=\"text-align: right;\">\n",
              "      <th></th>\n",
              "      <th>ATP</th>\n",
              "      <th>Location</th>\n",
              "      <th>Tournament</th>\n",
              "      <th>Date</th>\n",
              "      <th>Series</th>\n",
              "      <th>Court</th>\n",
              "      <th>Surface</th>\n",
              "      <th>Round</th>\n",
              "      <th>Best of</th>\n",
              "      <th>Winner</th>\n",
              "      <th>...</th>\n",
              "      <th>fav_l1_height</th>\n",
              "      <th>fav_1_win_rate</th>\n",
              "      <th>fav_1_surf_win_rate</th>\n",
              "      <th>under_Rank</th>\n",
              "      <th>under_Pts</th>\n",
              "      <th>under_l1_year_pro</th>\n",
              "      <th>under_l1_hand</th>\n",
              "      <th>under_l1_height</th>\n",
              "      <th>under_1_win_rate</th>\n",
              "      <th>under_1_surf_win_rate</th>\n",
              "    </tr>\n",
              "  </thead>\n",
              "  <tbody>\n",
              "    <tr>\n",
              "      <th>0</th>\n",
              "      <td>1</td>\n",
              "      <td>Adelaide</td>\n",
              "      <td>Adelaide International 1</td>\n",
              "      <td>2022-01-03</td>\n",
              "      <td>ATP250</td>\n",
              "      <td>Outdoor</td>\n",
              "      <td>Hard</td>\n",
              "      <td>1st Round</td>\n",
              "      <td>3</td>\n",
              "      <td>Kwon S.W.</td>\n",
              "      <td>...</td>\n",
              "      <td>180.0</td>\n",
              "      <td>3.0</td>\n",
              "      <td>2.0</td>\n",
              "      <td>81.0</td>\n",
              "      <td>823.0</td>\n",
              "      <td>2014.0</td>\n",
              "      <td>Left-Handed</td>\n",
              "      <td>170.0</td>\n",
              "      <td>-7.0</td>\n",
              "      <td>-7.0</td>\n",
              "    </tr>\n",
              "    <tr>\n",
              "      <th>1</th>\n",
              "      <td>1</td>\n",
              "      <td>Adelaide</td>\n",
              "      <td>Adelaide International 1</td>\n",
              "      <td>2022-01-03</td>\n",
              "      <td>ATP250</td>\n",
              "      <td>Outdoor</td>\n",
              "      <td>Hard</td>\n",
              "      <td>1st Round</td>\n",
              "      <td>3</td>\n",
              "      <td>Monteiro T.</td>\n",
              "      <td>...</td>\n",
              "      <td>188.0</td>\n",
              "      <td>-2.0</td>\n",
              "      <td>-2.0</td>\n",
              "      <td>89.0</td>\n",
              "      <td>805.0</td>\n",
              "      <td>2011.0</td>\n",
              "      <td>Left-Handed</td>\n",
              "      <td>183.0</td>\n",
              "      <td>-2.0</td>\n",
              "      <td>2.0</td>\n",
              "    </tr>\n",
              "    <tr>\n",
              "      <th>2</th>\n",
              "      <td>1</td>\n",
              "      <td>Adelaide</td>\n",
              "      <td>Adelaide International 1</td>\n",
              "      <td>2022-01-03</td>\n",
              "      <td>ATP250</td>\n",
              "      <td>Outdoor</td>\n",
              "      <td>Hard</td>\n",
              "      <td>1st Round</td>\n",
              "      <td>3</td>\n",
              "      <td>Djere L.</td>\n",
              "      <td>...</td>\n",
              "      <td>185.0</td>\n",
              "      <td>-2.0</td>\n",
              "      <td>-4.0</td>\n",
              "      <td>79.0</td>\n",
              "      <td>837.0</td>\n",
              "      <td>2011.0</td>\n",
              "      <td>Right-Handed</td>\n",
              "      <td>180.0</td>\n",
              "      <td>-6.0</td>\n",
              "      <td>-6.0</td>\n",
              "    </tr>\n",
              "    <tr>\n",
              "      <th>3</th>\n",
              "      <td>1</td>\n",
              "      <td>Adelaide</td>\n",
              "      <td>Adelaide International 1</td>\n",
              "      <td>2022-01-03</td>\n",
              "      <td>ATP250</td>\n",
              "      <td>Outdoor</td>\n",
              "      <td>Hard</td>\n",
              "      <td>1st Round</td>\n",
              "      <td>3</td>\n",
              "      <td>Johnson S.</td>\n",
              "      <td>...</td>\n",
              "      <td>188.0</td>\n",
              "      <td>-2.0</td>\n",
              "      <td>-2.0</td>\n",
              "      <td>85.0</td>\n",
              "      <td>812.0</td>\n",
              "      <td>2012.0</td>\n",
              "      <td>Right-Handed</td>\n",
              "      <td>188.0</td>\n",
              "      <td>-1.0</td>\n",
              "      <td>0.0</td>\n",
              "    </tr>\n",
              "    <tr>\n",
              "      <th>4</th>\n",
              "      <td>1</td>\n",
              "      <td>Adelaide</td>\n",
              "      <td>Adelaide International 1</td>\n",
              "      <td>2022-01-04</td>\n",
              "      <td>ATP250</td>\n",
              "      <td>Outdoor</td>\n",
              "      <td>Hard</td>\n",
              "      <td>1st Round</td>\n",
              "      <td>3</td>\n",
              "      <td>Moutet C.</td>\n",
              "      <td>...</td>\n",
              "      <td>188.0</td>\n",
              "      <td>-5.0</td>\n",
              "      <td>-5.0</td>\n",
              "      <td>92.0</td>\n",
              "      <td>797.0</td>\n",
              "      <td>2016.0</td>\n",
              "      <td>Left-Handed</td>\n",
              "      <td>175.0</td>\n",
              "      <td>-1.0</td>\n",
              "      <td>1.0</td>\n",
              "    </tr>\n",
              "    <tr>\n",
              "      <th>...</th>\n",
              "      <td>...</td>\n",
              "      <td>...</td>\n",
              "      <td>...</td>\n",
              "      <td>...</td>\n",
              "      <td>...</td>\n",
              "      <td>...</td>\n",
              "      <td>...</td>\n",
              "      <td>...</td>\n",
              "      <td>...</td>\n",
              "      <td>...</td>\n",
              "      <td>...</td>\n",
              "      <td>...</td>\n",
              "      <td>...</td>\n",
              "      <td>...</td>\n",
              "      <td>...</td>\n",
              "      <td>...</td>\n",
              "      <td>...</td>\n",
              "      <td>...</td>\n",
              "      <td>...</td>\n",
              "      <td>...</td>\n",
              "      <td>...</td>\n",
              "    </tr>\n",
              "    <tr>\n",
              "      <th>31105</th>\n",
              "      <td>64</td>\n",
              "      <td>Paris</td>\n",
              "      <td>BNP Paribas Masters</td>\n",
              "      <td>2009-11-13</td>\n",
              "      <td>Masters 1000</td>\n",
              "      <td>Indoor</td>\n",
              "      <td>Hard</td>\n",
              "      <td>Quarterfinals</td>\n",
              "      <td>3</td>\n",
              "      <td>Nadal R.</td>\n",
              "      <td>...</td>\n",
              "      <td>188.0</td>\n",
              "      <td>6.0</td>\n",
              "      <td>6.0</td>\n",
              "      <td>2.0</td>\n",
              "      <td>8845.0</td>\n",
              "      <td>2001.0</td>\n",
              "      <td>Left-Handed</td>\n",
              "      <td>185.0</td>\n",
              "      <td>21.0</td>\n",
              "      <td>7.0</td>\n",
              "    </tr>\n",
              "    <tr>\n",
              "      <th>31106</th>\n",
              "      <td>64</td>\n",
              "      <td>Paris</td>\n",
              "      <td>BNP Paribas Masters</td>\n",
              "      <td>2009-11-13</td>\n",
              "      <td>Masters 1000</td>\n",
              "      <td>Indoor</td>\n",
              "      <td>Hard</td>\n",
              "      <td>Quarterfinals</td>\n",
              "      <td>3</td>\n",
              "      <td>Monfils G.</td>\n",
              "      <td>...</td>\n",
              "      <td>198.0</td>\n",
              "      <td>4.0</td>\n",
              "      <td>4.0</td>\n",
              "      <td>16.0</td>\n",
              "      <td>2055.0</td>\n",
              "      <td>2004.0</td>\n",
              "      <td>Right-Handed</td>\n",
              "      <td>193.0</td>\n",
              "      <td>6.0</td>\n",
              "      <td>2.0</td>\n",
              "    </tr>\n",
              "    <tr>\n",
              "      <th>31107</th>\n",
              "      <td>64</td>\n",
              "      <td>Paris</td>\n",
              "      <td>BNP Paribas Masters</td>\n",
              "      <td>2009-11-14</td>\n",
              "      <td>Masters 1000</td>\n",
              "      <td>Indoor</td>\n",
              "      <td>Hard</td>\n",
              "      <td>Semifinals</td>\n",
              "      <td>3</td>\n",
              "      <td>Djokovic N.</td>\n",
              "      <td>...</td>\n",
              "      <td>188.0</td>\n",
              "      <td>15.0</td>\n",
              "      <td>11.0</td>\n",
              "      <td>2.0</td>\n",
              "      <td>8845.0</td>\n",
              "      <td>2001.0</td>\n",
              "      <td>Left-Handed</td>\n",
              "      <td>185.0</td>\n",
              "      <td>21.0</td>\n",
              "      <td>21.0</td>\n",
              "    </tr>\n",
              "    <tr>\n",
              "      <th>31108</th>\n",
              "      <td>64</td>\n",
              "      <td>Paris</td>\n",
              "      <td>BNP Paribas Masters</td>\n",
              "      <td>2009-11-14</td>\n",
              "      <td>Masters 1000</td>\n",
              "      <td>Indoor</td>\n",
              "      <td>Hard</td>\n",
              "      <td>Semifinals</td>\n",
              "      <td>3</td>\n",
              "      <td>Monfils G.</td>\n",
              "      <td>...</td>\n",
              "      <td>193.0</td>\n",
              "      <td>6.0</td>\n",
              "      <td>2.0</td>\n",
              "      <td>14.0</td>\n",
              "      <td>2310.0</td>\n",
              "      <td>1996.0</td>\n",
              "      <td>Right-Handed</td>\n",
              "      <td>185.0</td>\n",
              "      <td>3.0</td>\n",
              "      <td>3.0</td>\n",
              "    </tr>\n",
              "    <tr>\n",
              "      <th>31109</th>\n",
              "      <td>64</td>\n",
              "      <td>Paris</td>\n",
              "      <td>BNP Paribas Masters</td>\n",
              "      <td>2009-11-15</td>\n",
              "      <td>Masters 1000</td>\n",
              "      <td>Indoor</td>\n",
              "      <td>Hard</td>\n",
              "      <td>The Final</td>\n",
              "      <td>3</td>\n",
              "      <td>Djokovic N.</td>\n",
              "      <td>...</td>\n",
              "      <td>188.0</td>\n",
              "      <td>15.0</td>\n",
              "      <td>11.0</td>\n",
              "      <td>16.0</td>\n",
              "      <td>2055.0</td>\n",
              "      <td>2004.0</td>\n",
              "      <td>Right-Handed</td>\n",
              "      <td>193.0</td>\n",
              "      <td>6.0</td>\n",
              "      <td>6.0</td>\n",
              "    </tr>\n",
              "  </tbody>\n",
              "</table>\n",
              "<p>31110 rows × 90 columns</p>\n",
              "</div>\n",
              "      <button class=\"colab-df-convert\" onclick=\"convertToInteractive('df-810afea0-2474-4bb2-8cb6-f23c0e615fa9')\"\n",
              "              title=\"Convert this dataframe to an interactive table.\"\n",
              "              style=\"display:none;\">\n",
              "        \n",
              "  <svg xmlns=\"http://www.w3.org/2000/svg\" height=\"24px\"viewBox=\"0 0 24 24\"\n",
              "       width=\"24px\">\n",
              "    <path d=\"M0 0h24v24H0V0z\" fill=\"none\"/>\n",
              "    <path d=\"M18.56 5.44l.94 2.06.94-2.06 2.06-.94-2.06-.94-.94-2.06-.94 2.06-2.06.94zm-11 1L8.5 8.5l.94-2.06 2.06-.94-2.06-.94L8.5 2.5l-.94 2.06-2.06.94zm10 10l.94 2.06.94-2.06 2.06-.94-2.06-.94-.94-2.06-.94 2.06-2.06.94z\"/><path d=\"M17.41 7.96l-1.37-1.37c-.4-.4-.92-.59-1.43-.59-.52 0-1.04.2-1.43.59L10.3 9.45l-7.72 7.72c-.78.78-.78 2.05 0 2.83L4 21.41c.39.39.9.59 1.41.59.51 0 1.02-.2 1.41-.59l7.78-7.78 2.81-2.81c.8-.78.8-2.07 0-2.86zM5.41 20L4 18.59l7.72-7.72 1.47 1.35L5.41 20z\"/>\n",
              "  </svg>\n",
              "      </button>\n",
              "      \n",
              "  <style>\n",
              "    .colab-df-container {\n",
              "      display:flex;\n",
              "      flex-wrap:wrap;\n",
              "      gap: 12px;\n",
              "    }\n",
              "\n",
              "    .colab-df-convert {\n",
              "      background-color: #E8F0FE;\n",
              "      border: none;\n",
              "      border-radius: 50%;\n",
              "      cursor: pointer;\n",
              "      display: none;\n",
              "      fill: #1967D2;\n",
              "      height: 32px;\n",
              "      padding: 0 0 0 0;\n",
              "      width: 32px;\n",
              "    }\n",
              "\n",
              "    .colab-df-convert:hover {\n",
              "      background-color: #E2EBFA;\n",
              "      box-shadow: 0px 1px 2px rgba(60, 64, 67, 0.3), 0px 1px 3px 1px rgba(60, 64, 67, 0.15);\n",
              "      fill: #174EA6;\n",
              "    }\n",
              "\n",
              "    [theme=dark] .colab-df-convert {\n",
              "      background-color: #3B4455;\n",
              "      fill: #D2E3FC;\n",
              "    }\n",
              "\n",
              "    [theme=dark] .colab-df-convert:hover {\n",
              "      background-color: #434B5C;\n",
              "      box-shadow: 0px 1px 3px 1px rgba(0, 0, 0, 0.15);\n",
              "      filter: drop-shadow(0px 1px 2px rgba(0, 0, 0, 0.3));\n",
              "      fill: #FFFFFF;\n",
              "    }\n",
              "  </style>\n",
              "\n",
              "      <script>\n",
              "        const buttonEl =\n",
              "          document.querySelector('#df-810afea0-2474-4bb2-8cb6-f23c0e615fa9 button.colab-df-convert');\n",
              "        buttonEl.style.display =\n",
              "          google.colab.kernel.accessAllowed ? 'block' : 'none';\n",
              "\n",
              "        async function convertToInteractive(key) {\n",
              "          const element = document.querySelector('#df-810afea0-2474-4bb2-8cb6-f23c0e615fa9');\n",
              "          const dataTable =\n",
              "            await google.colab.kernel.invokeFunction('convertToInteractive',\n",
              "                                                     [key], {});\n",
              "          if (!dataTable) return;\n",
              "\n",
              "          const docLinkHtml = 'Like what you see? Visit the ' +\n",
              "            '<a target=\"_blank\" href=https://colab.research.google.com/notebooks/data_table.ipynb>data table notebook</a>'\n",
              "            + ' to learn more about interactive tables.';\n",
              "          element.innerHTML = '';\n",
              "          dataTable['output_type'] = 'display_data';\n",
              "          await google.colab.output.renderOutput(dataTable, element);\n",
              "          const docLink = document.createElement('div');\n",
              "          docLink.innerHTML = docLinkHtml;\n",
              "          element.appendChild(docLink);\n",
              "        }\n",
              "      </script>\n",
              "    </div>\n",
              "  </div>\n",
              "  "
            ]
          },
          "metadata": {},
          "execution_count": 34
        }
      ]
    },
    {
      "cell_type": "markdown",
      "source": [
        "выбираем необходимые для модели параметры: уровень турнира, покрытие, стадия турнира, котировки на победу игроков, их рейтинг, выступления в прошлом году в целом и покрытии, их рост, опыт, а также исход матча (победа фаворита или нет)."
      ],
      "metadata": {
        "id": "-fB1_F8EgZLR"
      }
    },
    {
      "cell_type": "code",
      "source": [
        "model_data=data[['Series', 'Court', 'Surface', 'Round', 'fav_coef', 'under_coef',\n",
        "                 'fav_Rank', 'fav_Pts', 'fav_l1_year_pro', 'fav_l1_hand', 'fav_l1_height',\n",
        "                 'under_Rank', 'under_Pts', 'under_l1_year_pro', 'under_l1_hand', 'under_l1_height',\n",
        "                 'fav_1_win_rate','under_1_win_rate','fav_1_surf_win_rate', 'under_1_surf_win_rate'\t,'fav_win']]"
      ],
      "metadata": {
        "id": "bHl0vonaKCML"
      },
      "execution_count": 35,
      "outputs": []
    },
    {
      "cell_type": "code",
      "source": [
        "model_data = model_data.dropna().reset_index(drop=True)"
      ],
      "metadata": {
        "id": "w8HK8xBdKFA5"
      },
      "execution_count": 36,
      "outputs": []
    },
    {
      "cell_type": "markdown",
      "source": [
        "выводим новые переменные, которые сравнивают разные характеристики игроков"
      ],
      "metadata": {
        "id": "3-TyJ0aIhQjI"
      }
    },
    {
      "cell_type": "code",
      "source": [
        "model_data['Rank_diff'] = model_data['fav_Rank'] - model_data['under_Rank']\n",
        "model_data['Pts_diff'] = model_data['fav_Pts'] - model_data['under_Pts']\n",
        "model_data['Exp_diff'] = model_data['fav_l1_year_pro'] - model_data['under_l1_year_pro']\n",
        "model_data['Same_hands'] = (model_data['fav_l1_hand']==model_data['under_l1_hand'])*1\n",
        "model_data['Height_diff'] = model_data['fav_l1_height'] - model_data['under_l1_height']\n",
        "model_data['win_diff'] = model_data['fav_1_win_rate'] - model_data['under_1_win_rate']\n",
        "model_data['win_surf_diff'] = model_data['fav_1_surf_win_rate'] - model_data['under_1_surf_win_rate']"
      ],
      "metadata": {
        "id": "cZ5I_mB8KIs5"
      },
      "execution_count": 37,
      "outputs": []
    },
    {
      "cell_type": "code",
      "source": [
        "model_data = model_data.drop(columns=['fav_Rank', 'fav_Pts', 'fav_l1_year_pro', 'fav_l1_hand', 'fav_l1_height',\n",
        "                 'under_Rank', 'under_Pts', 'under_l1_year_pro', 'under_l1_hand', 'under_l1_height',\n",
        "                 'fav_1_win_rate','under_1_win_rate', 'fav_1_surf_win_rate', 'under_1_surf_win_rate'])"
      ],
      "metadata": {
        "id": "mTnWSi4TKLmQ"
      },
      "execution_count": 38,
      "outputs": []
    },
    {
      "cell_type": "markdown",
      "source": [
        "проводим one hot encoding для категориальных переменных и добавляем их в датасет"
      ],
      "metadata": {
        "id": "d6l5Sb43hgGV"
      }
    },
    {
      "cell_type": "code",
      "source": [
        "dummies = pd.get_dummies(model_data[['Series', 'Court', 'Surface', 'Round']], dtype=int)"
      ],
      "metadata": {
        "id": "b1vlnqQfKNj7"
      },
      "execution_count": 39,
      "outputs": []
    },
    {
      "cell_type": "code",
      "source": [
        "model_data = model_data.drop(columns=['Series', 'Court', 'Surface', 'Round']).join(dummies)"
      ],
      "metadata": {
        "id": "cjAJ7dMxKOIb"
      },
      "execution_count": 40,
      "outputs": []
    },
    {
      "cell_type": "markdown",
      "source": [
        "определяем целевую переменную fav_win, которая нам показываем выиграли ли фаворит или нет"
      ],
      "metadata": {
        "id": "08pHpgYchvhu"
      }
    },
    {
      "cell_type": "code",
      "source": [
        "X = model_data.drop(columns=['fav_win'])\n",
        "y = model_data['fav_win']"
      ],
      "metadata": {
        "id": "moxV2_h0KP3e"
      },
      "execution_count": 41,
      "outputs": []
    },
    {
      "cell_type": "markdown",
      "source": [
        "разбиваем на тестовую и тренировочную выборки"
      ],
      "metadata": {
        "id": "eTShp_qEh9Mq"
      }
    },
    {
      "cell_type": "code",
      "source": [
        "X_train,X_test,y_train,y_test=train_test_split(X,y,test_size=0.3,random_state=5)"
      ],
      "metadata": {
        "id": "iCpy1fmyKaHe"
      },
      "execution_count": 42,
      "outputs": []
    },
    {
      "cell_type": "markdown",
      "source": [
        "Для модели я выбрал алгоритм LightGBM"
      ],
      "metadata": {
        "id": "g7bBBVoMiE2w"
      }
    },
    {
      "cell_type": "code",
      "source": [
        "model = ltb.LGBMClassifier(random_state=0, is_unbalance = True)"
      ],
      "metadata": {
        "id": "shMh2Pd5KeLT"
      },
      "execution_count": 43,
      "outputs": []
    },
    {
      "cell_type": "markdown",
      "source": [
        "настраиваем параметры для подбора оптимальных параметров"
      ],
      "metadata": {
        "id": "eXx75C8viRK9"
      }
    },
    {
      "cell_type": "code",
      "source": [
        "parametrs = { 'boosting_type': ['gbdt', 'dart'],\n",
        "             'max_depth': range(2,6),\n",
        "             'n_estimators': range(40,161,20),\n",
        "             'importance_type':['gain', 'split'],\n",
        "             'num_leaves': [1,2,3,4]}"
      ],
      "metadata": {
        "id": "DO6qT_yCKe-w"
      },
      "execution_count": 44,
      "outputs": []
    },
    {
      "cell_type": "code",
      "source": [
        "# grid = GridSearchCV(model, parametrs, cv=3, scoring='accuracy')\n",
        "# grid.fit(X_train, y_train)\n",
        "# grid.best_params_"
      ],
      "metadata": {
        "id": "rfdDN0EkKhJ8"
      },
      "execution_count": 45,
      "outputs": []
    },
    {
      "cell_type": "markdown",
      "source": [
        "задаем модель"
      ],
      "metadata": {
        "id": "yw6ZeKg_iXnj"
      }
    },
    {
      "cell_type": "code",
      "source": [
        "model = ltb.LGBMClassifier(random_state=0, is_unbalance = True, boosting_type='gbdt', max_depth=3,\n",
        "                           n_estimators=160, importance_type='gain', num_leaves=4)"
      ],
      "metadata": {
        "id": "YQ6t9xriKmEY"
      },
      "execution_count": 46,
      "outputs": []
    },
    {
      "cell_type": "code",
      "source": [
        "model.fit(X_train,y_train)"
      ],
      "metadata": {
        "colab": {
          "base_uri": "https://localhost:8080/",
          "height": 92
        },
        "id": "0uo2yGTGKqio",
        "outputId": "7b873810-6d45-4394-815e-5b6531c8c719"
      },
      "execution_count": 47,
      "outputs": [
        {
          "output_type": "execute_result",
          "data": {
            "text/plain": [
              "LGBMClassifier(importance_type='gain', is_unbalance=True, max_depth=3,\n",
              "               n_estimators=160, num_leaves=4, random_state=0)"
            ],
            "text/html": [
              "<style>#sk-container-id-1 {color: black;background-color: white;}#sk-container-id-1 pre{padding: 0;}#sk-container-id-1 div.sk-toggleable {background-color: white;}#sk-container-id-1 label.sk-toggleable__label {cursor: pointer;display: block;width: 100%;margin-bottom: 0;padding: 0.3em;box-sizing: border-box;text-align: center;}#sk-container-id-1 label.sk-toggleable__label-arrow:before {content: \"▸\";float: left;margin-right: 0.25em;color: #696969;}#sk-container-id-1 label.sk-toggleable__label-arrow:hover:before {color: black;}#sk-container-id-1 div.sk-estimator:hover label.sk-toggleable__label-arrow:before {color: black;}#sk-container-id-1 div.sk-toggleable__content {max-height: 0;max-width: 0;overflow: hidden;text-align: left;background-color: #f0f8ff;}#sk-container-id-1 div.sk-toggleable__content pre {margin: 0.2em;color: black;border-radius: 0.25em;background-color: #f0f8ff;}#sk-container-id-1 input.sk-toggleable__control:checked~div.sk-toggleable__content {max-height: 200px;max-width: 100%;overflow: auto;}#sk-container-id-1 input.sk-toggleable__control:checked~label.sk-toggleable__label-arrow:before {content: \"▾\";}#sk-container-id-1 div.sk-estimator input.sk-toggleable__control:checked~label.sk-toggleable__label {background-color: #d4ebff;}#sk-container-id-1 div.sk-label input.sk-toggleable__control:checked~label.sk-toggleable__label {background-color: #d4ebff;}#sk-container-id-1 input.sk-hidden--visually {border: 0;clip: rect(1px 1px 1px 1px);clip: rect(1px, 1px, 1px, 1px);height: 1px;margin: -1px;overflow: hidden;padding: 0;position: absolute;width: 1px;}#sk-container-id-1 div.sk-estimator {font-family: monospace;background-color: #f0f8ff;border: 1px dotted black;border-radius: 0.25em;box-sizing: border-box;margin-bottom: 0.5em;}#sk-container-id-1 div.sk-estimator:hover {background-color: #d4ebff;}#sk-container-id-1 div.sk-parallel-item::after {content: \"\";width: 100%;border-bottom: 1px solid gray;flex-grow: 1;}#sk-container-id-1 div.sk-label:hover label.sk-toggleable__label {background-color: #d4ebff;}#sk-container-id-1 div.sk-serial::before {content: \"\";position: absolute;border-left: 1px solid gray;box-sizing: border-box;top: 0;bottom: 0;left: 50%;z-index: 0;}#sk-container-id-1 div.sk-serial {display: flex;flex-direction: column;align-items: center;background-color: white;padding-right: 0.2em;padding-left: 0.2em;position: relative;}#sk-container-id-1 div.sk-item {position: relative;z-index: 1;}#sk-container-id-1 div.sk-parallel {display: flex;align-items: stretch;justify-content: center;background-color: white;position: relative;}#sk-container-id-1 div.sk-item::before, #sk-container-id-1 div.sk-parallel-item::before {content: \"\";position: absolute;border-left: 1px solid gray;box-sizing: border-box;top: 0;bottom: 0;left: 50%;z-index: -1;}#sk-container-id-1 div.sk-parallel-item {display: flex;flex-direction: column;z-index: 1;position: relative;background-color: white;}#sk-container-id-1 div.sk-parallel-item:first-child::after {align-self: flex-end;width: 50%;}#sk-container-id-1 div.sk-parallel-item:last-child::after {align-self: flex-start;width: 50%;}#sk-container-id-1 div.sk-parallel-item:only-child::after {width: 0;}#sk-container-id-1 div.sk-dashed-wrapped {border: 1px dashed gray;margin: 0 0.4em 0.5em 0.4em;box-sizing: border-box;padding-bottom: 0.4em;background-color: white;}#sk-container-id-1 div.sk-label label {font-family: monospace;font-weight: bold;display: inline-block;line-height: 1.2em;}#sk-container-id-1 div.sk-label-container {text-align: center;}#sk-container-id-1 div.sk-container {/* jupyter's `normalize.less` sets `[hidden] { display: none; }` but bootstrap.min.css set `[hidden] { display: none !important; }` so we also need the `!important` here to be able to override the default hidden behavior on the sphinx rendered scikit-learn.org. See: https://github.com/scikit-learn/scikit-learn/issues/21755 */display: inline-block !important;position: relative;}#sk-container-id-1 div.sk-text-repr-fallback {display: none;}</style><div id=\"sk-container-id-1\" class=\"sk-top-container\"><div class=\"sk-text-repr-fallback\"><pre>LGBMClassifier(importance_type=&#x27;gain&#x27;, is_unbalance=True, max_depth=3,\n",
              "               n_estimators=160, num_leaves=4, random_state=0)</pre><b>In a Jupyter environment, please rerun this cell to show the HTML representation or trust the notebook. <br />On GitHub, the HTML representation is unable to render, please try loading this page with nbviewer.org.</b></div><div class=\"sk-container\" hidden><div class=\"sk-item\"><div class=\"sk-estimator sk-toggleable\"><input class=\"sk-toggleable__control sk-hidden--visually\" id=\"sk-estimator-id-1\" type=\"checkbox\" checked><label for=\"sk-estimator-id-1\" class=\"sk-toggleable__label sk-toggleable__label-arrow\">LGBMClassifier</label><div class=\"sk-toggleable__content\"><pre>LGBMClassifier(importance_type=&#x27;gain&#x27;, is_unbalance=True, max_depth=3,\n",
              "               n_estimators=160, num_leaves=4, random_state=0)</pre></div></div></div></div></div>"
            ]
          },
          "metadata": {},
          "execution_count": 47
        }
      ]
    },
    {
      "cell_type": "code",
      "source": [
        "test_predict = model.predict(X_test)\n",
        "test_predict"
      ],
      "metadata": {
        "colab": {
          "base_uri": "https://localhost:8080/"
        },
        "id": "HT9CLjexK1ZU",
        "outputId": "425c9ba7-babd-4155-a92c-229266c5f835"
      },
      "execution_count": 48,
      "outputs": [
        {
          "output_type": "execute_result",
          "data": {
            "text/plain": [
              "array([1, 0, 0, ..., 1, 0, 1])"
            ]
          },
          "metadata": {},
          "execution_count": 48
        }
      ]
    },
    {
      "cell_type": "markdown",
      "source": [
        "смотрим на матрицу ошибок"
      ],
      "metadata": {
        "id": "nuWJVfcJiao3"
      }
    },
    {
      "cell_type": "code",
      "source": [
        "metrics.confusion_matrix(y_test, test_predict)"
      ],
      "metadata": {
        "colab": {
          "base_uri": "https://localhost:8080/"
        },
        "id": "UmwHeeT2K3My",
        "outputId": "d0d5df1c-497f-43a1-dad4-657cb153b6cb"
      },
      "execution_count": 49,
      "outputs": [
        {
          "output_type": "execute_result",
          "data": {
            "text/plain": [
              "array([[1988,  588],\n",
              "       [2352, 4039]])"
            ]
          },
          "metadata": {},
          "execution_count": 49
        }
      ]
    },
    {
      "cell_type": "markdown",
      "source": [
        "смотрим на точность классификатора на тестовой выборке"
      ],
      "metadata": {
        "id": "KvF-BpT5ifx5"
      }
    },
    {
      "cell_type": "code",
      "source": [
        "metrics.accuracy_score(y_test, test_predict)"
      ],
      "metadata": {
        "colab": {
          "base_uri": "https://localhost:8080/"
        },
        "id": "jQNY20UTK5mF",
        "outputId": "d8bbac34-ed6e-4216-e92b-0edba5713e5b"
      },
      "execution_count": 50,
      "outputs": [
        {
          "output_type": "execute_result",
          "data": {
            "text/plain": [
              "0.6721311475409836"
            ]
          },
          "metadata": {},
          "execution_count": 50
        }
      ]
    },
    {
      "cell_type": "markdown",
      "source": [
        "проверяем не переобчена ли модель"
      ],
      "metadata": {
        "id": "g1x_aY1si1Bn"
      }
    },
    {
      "cell_type": "code",
      "source": [
        "model.score(X_train,y_train)"
      ],
      "metadata": {
        "colab": {
          "base_uri": "https://localhost:8080/"
        },
        "id": "LB-f_RufK-VG",
        "outputId": "c54a6ea3-0da4-4d5a-a4b0-95a0aded8ce7"
      },
      "execution_count": 51,
      "outputs": [
        {
          "output_type": "execute_result",
          "data": {
            "text/plain": [
              "0.6815466233331741"
            ]
          },
          "metadata": {},
          "execution_count": 51
        }
      ]
    },
    {
      "cell_type": "markdown",
      "source": [
        "модель не переобочена"
      ],
      "metadata": {
        "id": "G9oFeIuzi-h6"
      }
    },
    {
      "cell_type": "code",
      "source": [
        "test = X_test.join(y_test).reset_index(drop=True)\n",
        "test['pred'] = test_predict"
      ],
      "metadata": {
        "id": "Kw9Mb9urLBQ5"
      },
      "execution_count": 52,
      "outputs": []
    },
    {
      "cell_type": "markdown",
      "source": [
        "теперь посчитаем выигрыш при использовании предсказаний модели со стратегией флэта"
      ],
      "metadata": {
        "id": "292vmSIyjBmt"
      }
    },
    {
      "cell_type": "code",
      "source": [
        "a = []\n",
        "for i in range(len(test)):\n",
        "  if (test['fav_win'][i] == test['pred'][i]) and (test['fav_win'][i]==1):\n",
        "    a.append(test['fav_coef'][i])\n",
        "  elif (test['fav_win'][i] == test['pred'][i]) and (test['fav_win'][i]==0):\n",
        "    a.append(test['under_coef'][i])\n",
        "  else:\n",
        "    a.append(0)    "
      ],
      "metadata": {
        "id": "cyyjOW_nLB17"
      },
      "execution_count": 53,
      "outputs": []
    },
    {
      "cell_type": "code",
      "source": [
        "print(f'На дистанции {len(a)} ставок выигрыш составляет {sum(a)-len(a)}, ROI составляет {((sum(a)-len(a))/len(a))*100}%')"
      ],
      "metadata": {
        "colab": {
          "base_uri": "https://localhost:8080/"
        },
        "id": "959HLhERLEzL",
        "outputId": "919b2d76-db97-479d-f41d-eac373c5193e"
      },
      "execution_count": 54,
      "outputs": [
        {
          "output_type": "stream",
          "name": "stdout",
          "text": [
            "На дистанции 8967 ставок выигрыш составляет 1121.6450000000787, ROI составляет 12.508587041374803%\n"
          ]
        }
      ]
    },
    {
      "cell_type": "markdown",
      "source": [
        "Как можно заметить, при использовании классификатора результаты с точки зрения выигрыша заметно улучшились, относительно использования наивных предсказаний даже с учетом различных стратегий."
      ],
      "metadata": {
        "id": "-tcpR7XujSLr"
      }
    }
  ]
}